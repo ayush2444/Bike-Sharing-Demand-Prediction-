{
  "nbformat": 4,
  "nbformat_minor": 0,
  "metadata": {
    "colab": {
      "private_outputs": true,
      "provenance": [],
      "collapsed_sections": [
        "dauF4eBmngu3",
        "bKJF3rekwFvQ",
        "MSa1f5Uengrz",
        "0wOQAZs5pc--",
        "448CDAPjqfQr",
        "KSlN3yHqYklG",
        "-JiQyfWJYklI",
        "EM7whBJCYoAo",
        "RoGjAbkUYoAp",
        "4Of9eVA-YrdM",
        "y-Ehk30pYrdP",
        "bamQiAODYuh1",
        "qYpmQ266Yuh3",
        "OH-pJp9IphqM",
        "Seke61FWphqN",
        "PIIx-8_IphqN",
        "b0JNsNcRphqO",
        "BZR9WyysphqO",
        "rFu4xreNphqO",
        "YJ55k-q6phqO",
        "U2RJ9gkRphqQ",
        "JMzcOPDDphqR",
        "x-EpHcCOp1ci",
        "PVzmfK_Ep1ck",
        "n3dbpmDWp1ck",
        "M7G43BXep1ck",
        "Ag9LCva-p1cl",
        "3MPXvC8up1cl",
        "NC_X3p0fY2L0",
        "22aHeOlLveiV"
      ],
      "include_colab_link": true
    },
    "kernelspec": {
      "name": "python3",
      "display_name": "Python 3"
    },
    "language_info": {
      "name": "python"
    }
  },
  "cells": [
    {
      "cell_type": "markdown",
      "metadata": {
        "id": "view-in-github",
        "colab_type": "text"
      },
      "source": [
        "<a href=\"https://colab.research.google.com/github/ayush2444/PlayStore_Data-Analysis/blob/main/EDA_Capstone_project.ipynb\" target=\"_parent\"><img src=\"https://colab.research.google.com/assets/colab-badge.svg\" alt=\"Open In Colab\"/></a>"
      ]
    },
    {
      "cell_type": "markdown",
      "source": [
        "# **Project Name**    - \n",
        "\n"
      ],
      "metadata": {
        "id": "vncDsAP0Gaoa"
      }
    },
    {
      "cell_type": "markdown",
      "source": [
        "##### **Project Type**    - EDA/Regression/Classification/Unsupervised\n",
        "##### **Contribution**    - Individual\n",
        "**Name** - Ayush Shrivastava"
      ],
      "metadata": {
        "id": "beRrZCGUAJYm"
      }
    },
    {
      "cell_type": "markdown",
      "source": [
        "# **Project Summary -**"
      ],
      "metadata": {
        "id": "FJNUwmbgGyua"
      }
    },
    {
      "cell_type": "markdown",
      "source": [
        " For app developers looking to create a programme centred on one of the categories covered in this analysis of the Google Play Store, this information is quite helpful. The application's objectives can be built with more clarity and accuracy thanks to this study.\n",
        "\n",
        "To verify that we gave them the best outcomes from our exploratory data analysis  we concentrated more on the problem descriptions and data cleaning in the initial phase. Data cleaning was the biggest hurdle for us. Duplicate entries and Null values must both be removed in order to ensure that the data is of high quality. We discovered that 13.60% of the reviews had NaN values during the Data Cleaning process, and even after combining the two data frames, we were unable to make many deductions to fill them. We had to drop down them as a result.\n",
        "\n",
        "\n",
        "There were only 816 distinct apps in the combined data frame from the play store and user evaluations. This is only 10% of the cleaned data; had at least 70% to 80% of the data been available in the merged data frames, we might have provided a more insightful analysis. \n",
        "\n",
        "We have done exploratory data analysis using this  cleaned data to analyse our dataset, such as the number of installations for each category. We examine the correlation between size and rating, content rating, and the categories with the most number of  installations.\n",
        "\n",
        "I came to the conclusion that users choose free apps more. Since most of the apps in the Google Play Store are roughly the same size, size is irrelevant. The goal of the entire project was to evaluate the data and identify the key factors that influence users' decisions to download applications.\n",
        "\n",
        "We looked at the number of instals and the number of reviews to determine which app categories were the most popular.\n",
        "\n",
        "We are given two datasets: one from the play store and the other from user reviews. In the user reviews dataset, it was noticed that user reviews had 42% of NaN values. These values could have been used to understand the sentiments of each category, which would have helped us fill the Reviews column's 13.60% NaN values.\n",
        "     \n",
        " We have observed that 92.6% of the apps in the Google Play store are free, while 7.4% are paid.   it means that on playstore the certain app categories have more free apps available for download than others\n",
        "\n",
        "It was discovered that the majority of apps on the Google Play market have ratings between 4 and 5. Additionally, it was noted that the dataset's majority of applications are of a tiny size.\n",
        "\n",
        "In order to determine whether the app is performing better or worse than other apps on the Play Store, it is possible to use the \"Ratings\" feature of the app to check whether the actual ratings of the app match the anticipated rating.\n",
        "\n",
        "we discovered the relationship between size and rating, can be seen between them. We discover that the bulk of highly rated apps (rated over 4) fall between 2 MB to 40 MB in size.\n",
        "\n",
        "In our analysis of the sentiment distribution, we discovered that the (Health and Fitness) category performs the best, with more than 85% positive ratings, as shown by our visualization of the percentage of positive, negative, and neutral reviews for each category. Although there are more positive and bad reviews in the (game) category.\n",
        "\n",
        "We discovered that positive reviews outnumber the negative and neutral ones, with 64% of reviews being positive.\n",
        "\n",
        "user reviews for both paid and free apps are analysed by plotting the sentiment polarity scores. We discovered that while negative comments are more frequent for free apps, paying consumers have more patience.\n",
        "•\t\n",
        "The data collected from Play Store apps has a huge potential to help app development companies succeed. For developers to work on and grasp the Android market, useful information can be derived.\n"
      ],
      "metadata": {
        "id": "F6v_1wHtG2nS"
      }
    },
    {
      "cell_type": "markdown",
      "source": [
        "# **GitHub Link -**"
      ],
      "metadata": {
        "id": "w6K7xa23Elo4"
      }
    },
    {
      "cell_type": "markdown",
      "source": [
        "https://github.com/ayush2444/PlayStore_Data-Analysis"
      ],
      "metadata": {
        "id": "kxSO1izO9yUF"
      }
    },
    {
      "cell_type": "markdown",
      "source": [
        "# **Problem Statement**\n"
      ],
      "metadata": {
        "id": "yQaldy8SH6Dl"
      }
    },
    {
      "cell_type": "markdown",
      "source": [
        "The Google Play Store dataset was used to create this dataset. We will conduct an exploratory data analysis on the data from both datasets in order to identify the key factors that influence application and profitability. Additionally, it aids in making very early business decisions and prepares the data for later modelling to be used with machine learning algorithms"
      ],
      "metadata": {
        "id": "Z72mxAwNt82u"
      }
    },
    {
      "cell_type": "markdown",
      "source": [
        "1. What are the most popular app categories in the Google Play store?\n",
        "2. What type of Apps are most prevalent on the Play Store according to the  Content Rating column? \n",
        "3. how the data frame's ratings were distributed?\n",
        "4. which type of category has the most number of ratings?\n",
        "5. what are the top four Category which contain highest rating? \n",
        "6. Which category has the most no. of installations?\n",
        "7. What are the Top 10 Installed Applications?\n",
        "8. What type of category has the most heavy applications?\n",
        "9. Which percentage of Play Store apps are free and paid?\n",
        "10. how many number of apps are paid?\n",
        "11. what are Top 10 expensive applications on playstore?\n",
        "12. Does the price of an app affect its rating\n",
        "13. How does the size of the app affect the ratings?\n",
        "14. Now find out the relation between Price, Rating, Installs, Size, Reviews\n",
        "15. What is the Type of review of sentiment distribution?\n",
        "16. analyze the different review sentiment categories in percentage terms.\n",
        "17. what are the Top 10 positive and negative reviews application?\n",
        "18. How does sentiment polarity differ between paid and unpaid apps?\n"
      ],
      "metadata": {
        "id": "DpeJGUA3kjGy"
      }
    },
    {
      "cell_type": "markdown",
      "source": [
        "#### **Define Your Business Objective?**"
      ],
      "metadata": {
        "id": "PH-0ReGfmX4f"
      }
    },
    {
      "cell_type": "markdown",
      "source": [
        "Our objective will be to structure the data, clean it and present certain trends that we observe that can help us draw very preliminary conclusions about the probability of success of a newly launched app.  \n",
        "\n",
        "We will conduct an exploratory data analysis on the data from both datasets in order to identify the key factors that influence application and profitability. Additionally, it aids in making very early business decisions and prepares the data for later modelling to be used with machine learning algorithms.\n",
        "\n",
        "In the current environment, it is clear that mobile apps play a significant part in every person's life. It has been observed that the growth of mobile application advertising has a remarkable impact on cutting-edge innovation. The largest application platform is thought to be the Google Play Store. \n",
        "Portable programmes (Mobile Apps) have evolved into essential components of our life because to the rapid development of modern cells. However, since new applications are constantly being released, it can be difficult for us to keep up with the news and comprehend everything about them. \n",
        "\n",
        " I will use this dataset to use Hive to analyse different qualities such as rating, if anything is free or paid, and so forth. I will then forecast other attributes such as customer surveys, rating, and so forth."
      ],
      "metadata": {
        "id": "PhDvGCAqmjP1"
      }
    },
    {
      "cell_type": "markdown",
      "source": [
        "# **General Guidelines** : -  "
      ],
      "metadata": {
        "id": "mDgbUHAGgjLW"
      }
    },
    {
      "cell_type": "markdown",
      "source": [
        "1.   Well-structured, formatted, and commented code is required. \n",
        "2.   Exception Handling, Production Grade Code & Deployment Ready Code will be a plus. Those students will be awarded some additional credits. \n",
        "     \n",
        "     The additional credits will have advantages over other students during Star Student selection.\n",
        "       \n",
        "             [ Note: - Deployment Ready Code is defined as, the whole .ipynb notebook should be executable in one go\n",
        "                       without a single error logged. ]\n",
        "\n",
        "3.   Each and every logic should have proper comments.\n",
        "4. You may add as many number of charts you want. Make Sure for each and every chart the following format should be answered.\n",
        "        \n",
        "\n",
        "```\n",
        "# Chart visualization code\n",
        "```\n",
        "            \n",
        "\n",
        "*   Why did you pick the specific chart?\n",
        "*   What is/are the insight(s) found from the chart?\n",
        "* Will the gained insights help creating a positive business impact? \n",
        "Are there any insights that lead to negative growth? Justify with specific reason.\n",
        "\n",
        "5. You have to create at least 20 logical & meaningful charts having important insights.\n",
        "\n",
        "\n",
        "[ Hints : - Do the Vizualization in  a structured way while following \"UBM\" Rule. \n",
        "\n",
        "U - Univariate Analysis,\n",
        "\n",
        "B - Bivariate Analysis (Numerical - Categorical, Numerical - Numerical, Categorical - Categorical)\n",
        "\n",
        "M - Multivariate Analysis\n",
        " ]\n",
        "\n",
        "\n",
        "\n"
      ],
      "metadata": {
        "id": "ZrxVaUj-hHfC"
      }
    },
    {
      "cell_type": "markdown",
      "source": [
        "# ***Let's Begin !***"
      ],
      "metadata": {
        "id": "O_i_v8NEhb9l"
      }
    },
    {
      "cell_type": "markdown",
      "source": [
        "## ***1. Know Your Data***"
      ],
      "metadata": {
        "id": "HhfV-JJviCcP"
      }
    },
    {
      "cell_type": "markdown",
      "source": [
        "### Import Libraries"
      ],
      "metadata": {
        "id": "Y3lxredqlCYt"
      }
    },
    {
      "cell_type": "code",
      "source": [
        "# Import Libraries\n",
        "\n",
        "import numpy as np\n",
        "import pandas as pd\n",
        "import matplotlib.pyplot as plt\n",
        "import seaborn as sns\n",
        "import warnings\n",
        "from pylab import rcParams"
      ],
      "metadata": {
        "id": "M8Vqi-pPk-HR"
      },
      "execution_count": null,
      "outputs": []
    },
    {
      "cell_type": "markdown",
      "source": [
        "### Dataset Loading"
      ],
      "metadata": {
        "id": "3RnN4peoiCZX"
      }
    },
    {
      "cell_type": "code",
      "source": [
        "# Load Dataset\n",
        "# Playstore dataset\n",
        "URL='https://drive.google.com/file/d/1pVZNhpwbqbu3xLf6J-1KrQI_-B8KqDCt/view?usp=share_link'\n",
        "df=pd.read_csv('https://drive.google.com/uc?id='+URL.split('/')[-2])"
      ],
      "metadata": {
        "id": "4CkvbW_SlZ_R"
      },
      "execution_count": null,
      "outputs": []
    },
    {
      "cell_type": "code",
      "source": [
        "# User review dataset \n",
        "URL='https://drive.google.com/file/d/1zJmyrNtkv_ZnVAY1wtg1irTRbpoZ9rRH/view?usp=share_link'\n",
        "reviews_df=pd.read_csv('https://drive.google.com/uc?id='+URL.split('/')[-2])"
      ],
      "metadata": {
        "id": "RUne2_fXAKVF"
      },
      "execution_count": null,
      "outputs": []
    },
    {
      "cell_type": "markdown",
      "source": [
        "### Dataset First View"
      ],
      "metadata": {
        "id": "x71ZqKXriCWQ"
      }
    },
    {
      "cell_type": "code",
      "source": [
        "# Dataset First Look\n",
        "df.head()"
      ],
      "metadata": {
        "id": "LWNFOSvLl09H"
      },
      "execution_count": null,
      "outputs": []
    },
    {
      "cell_type": "markdown",
      "source": [
        "### Dataset Rows & Columns count"
      ],
      "metadata": {
        "id": "7hBIi_osiCS2"
      }
    },
    {
      "cell_type": "code",
      "source": [
        "# Dataset Rows & Columns count\n",
        "df.shape"
      ],
      "metadata": {
        "id": "Kllu7SJgmLij"
      },
      "execution_count": null,
      "outputs": []
    },
    {
      "cell_type": "markdown",
      "source": [
        "### Dataset Information"
      ],
      "metadata": {
        "id": "JlHwYmJAmNHm"
      }
    },
    {
      "cell_type": "code",
      "source": [
        "# Dataset Info\n",
        "df.info"
      ],
      "metadata": {
        "id": "e9hRXRi6meOf"
      },
      "execution_count": null,
      "outputs": []
    },
    {
      "cell_type": "markdown",
      "source": [
        "###We must first examine and clean the data to make it suitable for data analysis because it is currently raw and useless for exploratory data analysis"
      ],
      "metadata": {
        "id": "s-mJJJlWu0lY"
      }
    },
    {
      "cell_type": "code",
      "source": [
        "## Play Store App Data\n",
        "print(\"The length of the Playstore_data is\",len(df))\n",
        "print(\"The number of unique Apps in Playstore_data is\",df[\"App\"].nunique())\n",
        "print(\"The total number of rows and columns in Playstore_data is\",df.shape)"
      ],
      "metadata": {
        "id": "Rveu-zxtHOqe"
      },
      "execution_count": null,
      "outputs": []
    },
    {
      "cell_type": "code",
      "source": [
        "df.boxplot()"
      ],
      "metadata": {
        "id": "q6NDwO4DHSRv"
      },
      "execution_count": null,
      "outputs": []
    },
    {
      "cell_type": "markdown",
      "source": [
        "#### Duplicate Values"
      ],
      "metadata": {
        "id": "35m5QtbWiB9F"
      }
    },
    {
      "cell_type": "code",
      "source": [
        "# Dataset Duplicate Value Count\n",
        "print(\"the total number of unique App is \", len(df['App'].unique()))\n",
        "print(\"the total number of App is  \", df.shape[0])\n",
        "print('the total number of duplicate Apps is', len(df['App'])- len(df['App'].unique()))"
      ],
      "metadata": {
        "id": "1sLdpKYkmox0"
      },
      "execution_count": null,
      "outputs": []
    },
    {
      "cell_type": "code",
      "source": [
        "# removing all the duplicate values \n",
        "df.drop_duplicates(subset = 'App' , inplace = True)"
      ],
      "metadata": {
        "id": "IhT3cCpzDCbL"
      },
      "execution_count": null,
      "outputs": []
    },
    {
      "cell_type": "markdown",
      "source": [
        "#### Missing Values/Null Values"
      ],
      "metadata": {
        "id": "PoPl-ycgm1ru"
      }
    },
    {
      "cell_type": "code",
      "source": [
        "df.count()"
      ],
      "metadata": {
        "id": "D8KAEVAZDUHt"
      },
      "execution_count": null,
      "outputs": []
    },
    {
      "cell_type": "code",
      "source": [
        "# Missing Values/Null Values Count\n",
        "# total number of null values\n",
        "total_null = df.isnull().sum()"
      ],
      "metadata": {
        "id": "GgHWkxvamxVg"
      },
      "execution_count": null,
      "outputs": []
    },
    {
      "cell_type": "code",
      "source": [
        "\n",
        "Total = pd.DataFrame(index= df.columns)\n",
        "Total['unique_values'] = df.nunique()\n",
        "Total['null_values'] =df.isnull().sum()"
      ],
      "metadata": {
        "id": "3q5wnI3om9sJ"
      },
      "execution_count": null,
      "outputs": []
    },
    {
      "cell_type": "code",
      "source": [
        "Total.boxplot()"
      ],
      "metadata": {
        "id": "gW9njgnwIQmx"
      },
      "execution_count": null,
      "outputs": []
    },
    {
      "cell_type": "code",
      "source": [
        "Total"
      ],
      "metadata": {
        "id": "vQcQ4YEmDMZ2"
      },
      "execution_count": null,
      "outputs": []
    },
    {
      "cell_type": "code",
      "source": [
        "#drop down all the Null Values\n",
        "df.dropna(how = 'any',inplace  =True)"
      ],
      "metadata": {
        "id": "zM4J2OoMIHSW"
      },
      "execution_count": null,
      "outputs": []
    },
    {
      "cell_type": "code",
      "source": [
        "#After removing null there are 8190 unique Apps avaliable\n",
        "len(df['App'].unique())"
      ],
      "metadata": {
        "id": "Jes9InYvIKPx"
      },
      "execution_count": null,
      "outputs": []
    },
    {
      "cell_type": "code",
      "source": [
        "df.boxplot()"
      ],
      "metadata": {
        "id": "ZVwpH71yIOa2"
      },
      "execution_count": null,
      "outputs": []
    },
    {
      "cell_type": "markdown",
      "source": [
        "**<h3>Changing the values in the \"Installs,\" \"Reviews,\" \"Price,\" and \"Size\" columns to numbers</h3>**"
      ],
      "metadata": {
        "id": "X2Akl37XO5Wq"
      }
    },
    {
      "cell_type": "markdown",
      "source": [
        "- In order to make the \"Installs\" column a numeric datatype, we must remove the characters \"+\" and \",\" from its values. Using the replace() and strip() functions, we will get away of these."
      ],
      "metadata": {
        "id": "DjZW4RmQyOQ5"
      }
    },
    {
      "cell_type": "code",
      "source": [
        "# converting Installs column into integer\n",
        "df = df[~(df['Installs'] == \"Free\")].reset_index(drop=True)\n",
        "\n",
        "df['Installs'] = df['Installs'].apply(lambda x: x.replace(',',''))\n",
        "df['Installs'] = df['Installs'].apply(lambda x: x.replace('+',''))\n",
        "df['Installs'] = df['Installs'].astype(dtype = 'int')"
      ],
      "metadata": {
        "id": "l77USS8JO9vA"
      },
      "execution_count": null,
      "outputs": []
    },
    {
      "cell_type": "markdown",
      "source": [
        "- We will use the as type(int) method to change the \"Reviews\" column's data type from \"object\" to \"int\" because we can see that it is a numerical indication but has an object data type."
      ],
      "metadata": {
        "id": "EF_W3mB5yH_l"
      }
    },
    {
      "cell_type": "code",
      "source": [
        "#Converting reviews column into Integer\n",
        "df['Reviews'] = df['Reviews'].apply(lambda x: x.replace(',',''))\n",
        "df['Reviews'] = df['Reviews'].apply(lambda x: x.replace('+',''))\n",
        "df['Reviews'] = df['Reviews'].astype(dtype = 'int')"
      ],
      "metadata": {
        "id": "58SCL_NqPCjw"
      },
      "execution_count": null,
      "outputs": []
    },
    {
      "cell_type": "markdown",
      "source": [
        "- In  this dataset the size columns is of the data type object , it should be numeric , \" also includes the letters \"k\" and \"M,\" which stand for, respectively, \"kilobytes\" and \"Megabytes,\" in the values. It will be modified to 1000 for \"k\" and 1000000 for \"M.\""
      ],
      "metadata": {
        "id": "hOXyKsTzyVVD"
      }
    },
    {
      "cell_type": "code",
      "source": [
        "#Converting the Size column into float\n",
        "df['Size'] = df['Size'].apply(lambda x: str(x).replace('Varies with device', 'NaN') if 'Varies with device' in str(x) else x)\n",
        "df['Size'] = df['Size'].apply(lambda x: float(str(x).replace('k', '')) / 1000 if 'k' in str(x) else x)\n",
        "df['Size'] = df['Size'].apply(lambda x: str(x).replace(',', '') if 'M' in str(x) else x)\n",
        "df['Size'] = df['Size'].apply(lambda x: str(x).replace('M', '') if 'M' in str(x) else x)\n",
        "df['Size'] = df['Size'].apply(lambda x: float(x))\n"
      ],
      "metadata": {
        "id": "5BViIAFtPEqD"
      },
      "execution_count": null,
      "outputs": []
    },
    {
      "cell_type": "markdown",
      "source": [
        "- The column 'Price' has a datatype of 'object', and some of the values in it may contain the dollar sign ,  Prior to converting the column to the \"int\" datatype, we will first use the strip() function to remove the \"$\" symbol"
      ],
      "metadata": {
        "id": "2IrMw4l_yccC"
      }
    },
    {
      "cell_type": "code",
      "source": [
        "#converting the Price column into float\n",
        "df['Price']=df['Price'].apply( lambda x: x.replace('$',''))\n",
        "df['Price'] = df['Price'].apply(lambda x: float(x))\n"
      ],
      "metadata": {
        "id": "GKq5wbi3PGuA"
      },
      "execution_count": null,
      "outputs": []
    },
    {
      "cell_type": "code",
      "source": [
        "df.dtypes"
      ],
      "metadata": {
        "id": "w72UX0PZPOpK"
      },
      "execution_count": null,
      "outputs": []
    },
    {
      "cell_type": "markdown",
      "source": [
        "**<h3>Exploring UserReview_DataFrame</h3>**"
      ],
      "metadata": {
        "id": "IVInLaldNq0a"
      }
    },
    {
      "cell_type": "code",
      "source": [
        "#dataset first look\n",
        "reviews_df.head()"
      ],
      "metadata": {
        "id": "1DwJloWmKG3k"
      },
      "execution_count": null,
      "outputs": []
    },
    {
      "cell_type": "code",
      "source": [
        "#checking Info\n",
        "reviews_df.info()\n"
      ],
      "metadata": {
        "id": "D9ZsZZNWKQu6"
      },
      "execution_count": null,
      "outputs": []
    },
    {
      "cell_type": "code",
      "source": [
        "reviews_df.shape"
      ],
      "metadata": {
        "id": "6PDVtmvXL4AP"
      },
      "execution_count": null,
      "outputs": []
    },
    {
      "cell_type": "code",
      "source": [
        "reviews_df.isnull()"
      ],
      "metadata": {
        "id": "73OZvGdEKVS1"
      },
      "execution_count": null,
      "outputs": []
    },
    {
      "cell_type": "markdown",
      "source": [
        "#### Missing Values/Null Values"
      ],
      "metadata": {
        "id": "rYANnAnDKtFm"
      }
    },
    {
      "cell_type": "code",
      "source": [
        "# checking the total number of null values\n",
        "reviews_df.isnull().sum()"
      ],
      "metadata": {
        "id": "A24fE9QRKwDA"
      },
      "execution_count": null,
      "outputs": []
    },
    {
      "cell_type": "code",
      "source": [
        "#get total ROws and columns \n",
        "get_rows=reviews_df.shape[0]\n",
        "get_columns=reviews_df.shape[1]\n",
        "print(f\"there are total number of {get_rows} rows  and no of columns is {get_columns}\")"
      ],
      "metadata": {
        "id": "HHKpDHGVLR5G"
      },
      "execution_count": null,
      "outputs": []
    },
    {
      "cell_type": "code",
      "source": [
        "Total=pd.DataFrame(index=reviews_df.columns)\n",
        "Total[\"non null values\"]=reviews_df.count()\n",
        "Total[\"unique count\"]=reviews_df.nunique()\n",
        "Total[\"null value\"]=reviews_df.isnull().sum()"
      ],
      "metadata": {
        "id": "ra3iun7MLXFq"
      },
      "execution_count": null,
      "outputs": []
    },
    {
      "cell_type": "code",
      "source": [
        "Total"
      ],
      "metadata": {
        "id": "PkRPYMIgLs_r"
      },
      "execution_count": null,
      "outputs": []
    },
    {
      "cell_type": "code",
      "source": [
        "#lets Drop down all the Null values \n",
        "droping_null = reviews_df.dropna(inplace= True)"
      ],
      "metadata": {
        "id": "swEGNzhfMASQ"
      },
      "execution_count": null,
      "outputs": []
    },
    {
      "cell_type": "code",
      "source": [
        "##After droping down the null values.\n",
        "reviews_df.shape"
      ],
      "metadata": {
        "id": "6C-N4v6vMDWZ"
      },
      "execution_count": null,
      "outputs": []
    },
    {
      "cell_type": "markdown",
      "source": [
        "###Merging Both the Data Frame"
      ],
      "metadata": {
        "id": "ka1CcMivN8E1"
      }
    },
    {
      "cell_type": "code",
      "source": [
        "# now lets merging both the data frame\n",
        "merged_df= df.merge(reviews_df,how=\"inner\",on=\"App\")"
      ],
      "metadata": {
        "id": "AZRoFVeEOBtG"
      },
      "execution_count": null,
      "outputs": []
    },
    {
      "cell_type": "code",
      "source": [
        "print(\"the total number of unique App is \", len(merged_df['App'].unique()))"
      ],
      "metadata": {
        "id": "fJooS4ZpOWiP"
      },
      "execution_count": null,
      "outputs": []
    },
    {
      "cell_type": "code",
      "source": [
        "# First look of merged data frame\n",
        "merged_df.head()"
      ],
      "metadata": {
        "id": "-2n0aJH-OZ6H"
      },
      "execution_count": null,
      "outputs": []
    },
    {
      "cell_type": "markdown",
      "source": [
        "### What did you know about your dataset?"
      ],
      "metadata": {
        "id": "HI5O5DHQQoNn"
      }
    },
    {
      "cell_type": "markdown",
      "source": [
        "\n",
        "\n",
        "Two datasets are provided to us, one from the Google Play store and the other from user evaluations. It was found that 42% of the user reviews in the dataset for user reviews included NaN values. To ensure that the data is of excellent quality, duplicate entries and Null values must also be removed, therefore we did so."
      ],
      "metadata": {
        "id": "izKakY7CQsQw"
      }
    },
    {
      "cell_type": "markdown",
      "source": [
        "## ***2. Understanding Your Variables***"
      ],
      "metadata": {
        "id": "nA9Y7ga8ng1Z"
      }
    },
    {
      "cell_type": "code",
      "source": [
        "# Dataset Columns\n",
        "df.columns\n"
      ],
      "metadata": {
        "id": "j7xfkqrt5Ag5"
      },
      "execution_count": null,
      "outputs": []
    },
    {
      "cell_type": "code",
      "source": [
        "# Dataset Describe\n",
        "df.describe"
      ],
      "metadata": {
        "id": "DnOaZdaE5Q5t"
      },
      "execution_count": null,
      "outputs": []
    },
    {
      "cell_type": "markdown",
      "source": [
        "### Variables Description "
      ],
      "metadata": {
        "id": "PBTbrJXOngz2"
      }
    },
    {
      "cell_type": "markdown",
      "source": [
        "Answer Here"
      ],
      "metadata": {
        "id": "aJV4KIxSnxay"
      }
    },
    {
      "cell_type": "markdown",
      "source": [
        "### Check Unique Values for each variable."
      ],
      "metadata": {
        "id": "u3PMJOP6ngxN"
      }
    },
    {
      "cell_type": "code",
      "source": [
        "# Check Unique Values for each variable.\n",
        "print(\"the total number of unique App is \", len(df['App'].unique()))"
      ],
      "metadata": {
        "id": "zms12Yq5n-jE"
      },
      "execution_count": null,
      "outputs": []
    },
    {
      "cell_type": "markdown",
      "source": [
        "## 3. ***Data Wrangling***"
      ],
      "metadata": {
        "id": "dauF4eBmngu3"
      }
    },
    {
      "cell_type": "markdown",
      "source": [
        "### Data Wrangling Code"
      ],
      "metadata": {
        "id": "bKJF3rekwFvQ"
      }
    },
    {
      "cell_type": "code",
      "source": [
        "# Write your code to make your dataset analysis ready.\n",
        "df.head()"
      ],
      "metadata": {
        "id": "wk-9a2fpoLcV"
      },
      "execution_count": null,
      "outputs": []
    },
    {
      "cell_type": "markdown",
      "source": [
        "### What all manipulations have you done and insights you found?"
      ],
      "metadata": {
        "id": "MSa1f5Uengrz"
      }
    },
    {
      "cell_type": "markdown",
      "source": [
        "\n",
        "In order to analyse our dataset, including the number of installations for each category, we have conducted exploratory data analysis utilising this cleaned data. We look at how size and rating, content rating, and the categories with the most instals are correlated.\n"
      ],
      "metadata": {
        "id": "LbyXE7I1olp8"
      }
    },
    {
      "cell_type": "markdown",
      "source": [
        "## ***4. Data Vizualization, Storytelling & Experimenting with charts : Understand the relationships between variables***"
      ],
      "metadata": {
        "id": "GF8Ens_Soomf"
      }
    },
    {
      "cell_type": "markdown",
      "source": [
        "#### Chart - 1 "
      ],
      "metadata": {
        "id": "0wOQAZs5pc--"
      }
    },
    {
      "cell_type": "markdown",
      "source": [
        "###**What are the most popular app categories in the Google Play store?**"
      ],
      "metadata": {
        "id": "3-pdo7_BSvny"
      }
    },
    {
      "cell_type": "code",
      "source": [
        "Cat_analysis = df['Category'].value_counts().reset_index()\n",
        "Cat_analysis.T"
      ],
      "metadata": {
        "id": "7wOy2VBPTJwn"
      },
      "execution_count": null,
      "outputs": []
    },
    {
      "cell_type": "code",
      "source": [
        "# Chart - 1 visualization code\n",
        "# creating a pie chart to check the popular category Apps\n",
        "plt.figure(figsize=(14,14))\n",
        "ax = plt.subplot(111)\n",
        "gol_pie = plt.Circle( (0,0), 0.35, color='lightyellow')\n",
        "ay=plt.gcf()\n",
        "ay.gca().add_artist(gol_pie)\n",
        "plt.pie(x = Cat_analysis['Category'], labels= Cat_analysis['index'], autopct ='%1.1f%%')\n",
        "plt.legend(title = 'Categories')\n",
        "ax.set_title(\"Categories\")\n",
        "ax.legend(bbox_to_anchor=(1, 0, 0.5, 1))\n",
        "plt.show()"
      ],
      "metadata": {
        "id": "7v_ESjsspbW7"
      },
      "execution_count": null,
      "outputs": []
    },
    {
      "cell_type": "markdown",
      "source": [
        "##### 1. Why did you pick the specific chart?"
      ],
      "metadata": {
        "id": "K5QZ13OEpz2H"
      }
    },
    {
      "cell_type": "markdown",
      "source": [
        "**There are total 33 categories , that is more,  to explain all the category clearly we took pie chart,  pie chart able to demonstrate relationships between parts of the data in percentage wise  . This chart shows all the category contain apps in percentage wise.**\n",
        "\n"
      ],
      "metadata": {
        "id": "XESiWehPqBRc"
      }
    },
    {
      "cell_type": "markdown",
      "source": [
        "##### 2. What is/are the insight(s) found from the chart?"
      ],
      "metadata": {
        "id": "lQ7QKXXCp7Bj"
      }
    },
    {
      "cell_type": "markdown",
      "source": [
        "**33 categories in total make up the dataset, with Family Game & tools being where the majority of the apps are located in the Play Store.**"
      ],
      "metadata": {
        "id": "C_j1G7yiqdRP"
      }
    },
    {
      "cell_type": "markdown",
      "source": [
        "##### 3. Will the gained insights help creating a positive business impact? \n",
        "Are there any insights that lead to negative growth? Justify with specific reason."
      ],
      "metadata": {
        "id": "448CDAPjqfQr"
      }
    },
    {
      "cell_type": "markdown",
      "source": [
        "Answer Here"
      ],
      "metadata": {
        "id": "3cspy4FjqxJW"
      }
    },
    {
      "cell_type": "markdown",
      "source": [
        "#### Chart - 2"
      ],
      "metadata": {
        "id": "KSlN3yHqYklG"
      }
    },
    {
      "cell_type": "markdown",
      "source": [
        "###**Content Rating Analysis**"
      ],
      "metadata": {
        "id": "ZhNfhDGmUMm0"
      }
    },
    {
      "cell_type": "code",
      "source": [
        "Cont_ratingx = df['Content Rating'].value_counts().index\n",
        "Cont_ratingy = df['Content Rating'].value_counts()"
      ],
      "metadata": {
        "id": "OLiXFsl2UY8E"
      },
      "execution_count": null,
      "outputs": []
    },
    {
      "cell_type": "code",
      "source": [
        "Cont_ratingy"
      ],
      "metadata": {
        "id": "Oy_ZRVriUbeE"
      },
      "execution_count": null,
      "outputs": []
    },
    {
      "cell_type": "code",
      "source": [
        "# Chart - 2 visualization code\n",
        "#create the bar chart to observe the content rating\n",
        "plt.figure(figsize=(14,12))\n",
        "ax = sns.barplot(x = Cont_ratingx ,y = Cont_ratingy, saturation = 10, orient= 'v')\n",
        "ax.set_xticklabels(ax.get_xticklabels(), rotation=50, ha=\"right\")\n",
        "plt.title('Content Rating',size = 21)\n",
        "plt.ylabel('Apps')\n",
        "plt.xlabel('Content Rating')\n",
        "sns.set_style(\"dark\")"
      ],
      "metadata": {
        "id": "R4YgtaqtYklH"
      },
      "execution_count": null,
      "outputs": []
    },
    {
      "cell_type": "markdown",
      "source": [
        "##### 1. Why did you pick the specific chart?"
      ],
      "metadata": {
        "id": "t6dVpIINYklI"
      }
    },
    {
      "cell_type": "markdown",
      "source": [
        "**There is a total 6 category , to explain this clearly it is better to take bar chart in the because The bars chart display the value for a particular category of data.**"
      ],
      "metadata": {
        "id": "5aaW0BYyYklI"
      }
    },
    {
      "cell_type": "markdown",
      "source": [
        "##### 2. What is/are the insight(s) found from the chart?"
      ],
      "metadata": {
        "id": "ijmpgYnKYklI"
      }
    },
    {
      "cell_type": "markdown",
      "source": [
        "**The (Everyone)category has the most apps, as can be seen from the graph**"
      ],
      "metadata": {
        "id": "PSx9atu2YklI"
      }
    },
    {
      "cell_type": "markdown",
      "source": [
        "##### 3. Will the gained insights help creating a positive business impact? \n",
        "Are there any insights that lead to negative growth? Justify with specific reason."
      ],
      "metadata": {
        "id": "-JiQyfWJYklI"
      }
    },
    {
      "cell_type": "markdown",
      "source": [
        "Answer Here"
      ],
      "metadata": {
        "id": "BcBbebzrYklV"
      }
    },
    {
      "cell_type": "markdown",
      "source": [
        "#### Chart - 3"
      ],
      "metadata": {
        "id": "EM7whBJCYoAo"
      }
    },
    {
      "cell_type": "markdown",
      "source": [
        "###**Rating Analysis**"
      ],
      "metadata": {
        "id": "ru6ruoF2VjPl"
      }
    },
    {
      "cell_type": "markdown",
      "source": [
        "###**Let's examine how the data frame's ratings were distributed.**"
      ],
      "metadata": {
        "id": "dRvcjUYoVyPh"
      }
    },
    {
      "cell_type": "code",
      "source": [
        "# Chart - 3 visualization code\n",
        "#Rating Distribution\n",
        "plt.figure(figsize=(12,10))\n",
        "sns.kdeplot(df['Rating'], color  = 'green' , shade = True  )\n",
        "plt.legend(['Rating'])\n",
        "plt.title('Distribution of rating')\n",
        "plt.show()\n"
      ],
      "metadata": {
        "id": "t6GMdE67YoAp"
      },
      "execution_count": null,
      "outputs": []
    },
    {
      "cell_type": "markdown",
      "source": [
        "##### 1. Why did you pick the specific chart?"
      ],
      "metadata": {
        "id": "fge-S5ZAYoAp"
      }
    },
    {
      "cell_type": "markdown",
      "source": [
        "**We are describing the rating distribution there, and the kdeplot clearly demonstrates it. The area under the illustrated curve denotes the probability distribution of the data values. That is why it was chosen.**"
      ],
      "metadata": {
        "id": "5dBItgRVYoAp"
      }
    },
    {
      "cell_type": "markdown",
      "source": [
        "##### 2. What is/are the insight(s) found from the chart?"
      ],
      "metadata": {
        "id": "85gYPyotYoAp"
      }
    },
    {
      "cell_type": "markdown",
      "source": [
        "**According to the graph above, the majority of applications in the Google Play store have ratings between 3.5 and 4.8.**"
      ],
      "metadata": {
        "id": "4jstXR6OYoAp"
      }
    },
    {
      "cell_type": "markdown",
      "source": [
        "##### 3. Will the gained insights help creating a positive business impact? \n",
        "Are there any insights that lead to negative growth? Justify with specific reason."
      ],
      "metadata": {
        "id": "RoGjAbkUYoAp"
      }
    },
    {
      "cell_type": "markdown",
      "source": [
        "Answer Here"
      ],
      "metadata": {
        "id": "zfJ8IqMcYoAp"
      }
    },
    {
      "cell_type": "markdown",
      "source": [
        "#### Chart - 4"
      ],
      "metadata": {
        "id": "4Of9eVA-YrdM"
      }
    },
    {
      "cell_type": "markdown",
      "source": [
        "###**What Category of apps has the most ratings?**"
      ],
      "metadata": {
        "id": "y8NX7dDuZaev"
      }
    },
    {
      "cell_type": "code",
      "source": [
        "df[[\"Category\", \"Rating\"]]"
      ],
      "metadata": {
        "id": "69g8rF0nZiTM"
      },
      "execution_count": null,
      "outputs": []
    },
    {
      "cell_type": "code",
      "source": [
        "# Chart - 4 visualization code\n",
        "## create the violinplot plot to anaslyse App rating category \n",
        "plt.figure(figsize= (22,10))\n",
        "sns.set_style(\"dark\")\n",
        "plt.title('App rating across Categories' ,fontsize = 20)\n",
        "ax = sns.violinplot(x = df['Category'], y = df['Rating'])\n",
        "ax.set_xticklabels(ax.get_xticklabels(), rotation = 90)\n",
        "plt.show()"
      ],
      "metadata": {
        "id": "irlUoxc8YrdO"
      },
      "execution_count": null,
      "outputs": []
    },
    {
      "cell_type": "markdown",
      "source": [
        "##### 1. Why did you pick the specific chart?"
      ],
      "metadata": {
        "id": "iky9q4vBYrdO"
      }
    },
    {
      "cell_type": "markdown",
      "source": [
        "**We have taken this violinplot to compare the rating between across categories , violinplot is useful when you want to make a comparison of distributions between multiple categories. This plot showing the the rating across all categories Clearly.**"
      ],
      "metadata": {
        "id": "aJRCwT6DYrdO"
      }
    },
    {
      "cell_type": "markdown",
      "source": [
        "##### 2. What is/are the insight(s) found from the chart?"
      ],
      "metadata": {
        "id": "F6T5p64dYrdO"
      }
    },
    {
      "cell_type": "markdown",
      "source": [
        "**According to the graph above, the two categories of applications with the greatest quality and 50% of apps with ratings greater than 4.5 are health and fitness and book and reference applications, while the dating category is lower than Average**"
      ],
      "metadata": {
        "id": "Xx8WAJvtYrdO"
      }
    },
    {
      "cell_type": "markdown",
      "source": [
        "##### 3. Will the gained insights help creating a positive business impact? \n",
        "Are there any insights that lead to negative growth? Justify with specific reason."
      ],
      "metadata": {
        "id": "y-Ehk30pYrdP"
      }
    },
    {
      "cell_type": "markdown",
      "source": [
        "Answer Here"
      ],
      "metadata": {
        "id": "jLNxxz7MYrdP"
      }
    },
    {
      "cell_type": "markdown",
      "source": [
        "#### Chart - 5"
      ],
      "metadata": {
        "id": "bamQiAODYuh1"
      }
    },
    {
      "cell_type": "markdown",
      "source": [
        "###**What are the top four Category which contain highest rating?**"
      ],
      "metadata": {
        "id": "2aKeuTBGaIqC"
      }
    },
    {
      "cell_type": "code",
      "source": [
        "# lets observe the Top four Category \n",
        "Top = df[\"Category\"].value_counts().reset_index()\n",
        "print(Top[:4])"
      ],
      "metadata": {
        "id": "xV1kRIeXaIWN"
      },
      "execution_count": null,
      "outputs": []
    },
    {
      "cell_type": "code",
      "source": [
        "# Chart - 5 visualization code\n",
        "plt.figure(figsize= (20,15))\n",
        "plt.title(\"Ratings of Different Categories\",fontsize = 20)\n",
        "\n",
        "plt.subplot(2,2,1)\n",
        "sns.distplot(df[df['Category'] == 'FAMILY']['Rating'])\n",
        "plt.legend(['Rating'])\n",
        "plt.ylabel(\"Apps\")\n",
        "plt.title('Rating of family Apps')\n",
        "\n",
        "plt.subplot(2,2,2)\n",
        "sns.distplot(df[df['Category'] == 'GAME']['Rating'])\n",
        "plt.legend(['Rating'])\n",
        "plt.ylabel(\"Apps\")\n",
        "plt.title('Rating of game Apps')\n",
        "\n",
        "plt.subplot(2,2,3)\n",
        "sns.distplot(df[df['Category'] == 'TOOLS']['Rating'])\n",
        "plt.legend(['Rating'])\n",
        "plt.ylabel(\"Apps\")\n",
        "plt.title('Rating of tools Apps')\n",
        "\n",
        "plt.subplot(2,2,4)\n",
        "sns.distplot(df[df['Category'] == 'FINANCE']['Rating'])\n",
        "plt.legend(['Rating'])\n",
        "plt.ylabel(\"Apps\")\n",
        "plt.title('Rating of finance Apps')\n",
        "\n",
        "plt.show()"
      ],
      "metadata": {
        "id": "STNgA1_vaUno"
      },
      "execution_count": null,
      "outputs": []
    },
    {
      "cell_type": "markdown",
      "source": [
        "##### 1. Why did you pick the specific chart?"
      ],
      "metadata": {
        "id": "QHF8YVU7Yuh3"
      }
    },
    {
      "cell_type": "markdown",
      "source": [
        "**We have taken this distplot to show the top four categories of rating , disptplot is useful to represent data in histogram form. thats why we have taken it to show this data.   A distplot plots a univariate distribution of observations.**\n"
      ],
      "metadata": {
        "id": "dcxuIMRPYuh3"
      }
    },
    {
      "cell_type": "markdown",
      "source": [
        "##### 2. What is/are the insight(s) found from the chart?\n",
        "\n",
        "\n",
        "\n"
      ],
      "metadata": {
        "id": "GwzvFGzlYuh3"
      }
    },
    {
      "cell_type": "markdown",
      "source": [
        "**According to the graph above, the family category has higher ratings between 3 to 5, games have between 3.5 to 4.8, tools have the greatest ratings between 3.8 to 4.9, and financial category applications have ratings between 3.6 and 5. it is concluded that all the top four category has average rating between 4 to 4.8**"
      ],
      "metadata": {
        "id": "uyqkiB8YYuh3"
      }
    },
    {
      "cell_type": "markdown",
      "source": [
        "##### 3. Will the gained insights help creating a positive business impact? \n",
        "Are there any insights that lead to negative growth? Justify with specific reason."
      ],
      "metadata": {
        "id": "qYpmQ266Yuh3"
      }
    },
    {
      "cell_type": "markdown",
      "source": [
        "Answer Here"
      ],
      "metadata": {
        "id": "_WtzZ_hCYuh4"
      }
    },
    {
      "cell_type": "markdown",
      "source": [
        "#### Chart - 6"
      ],
      "metadata": {
        "id": "OH-pJp9IphqM"
      }
    },
    {
      "cell_type": "markdown",
      "source": [
        "###**Installation Analysis**"
      ],
      "metadata": {
        "id": "iV1VZ9hba2g-"
      }
    },
    {
      "cell_type": "markdown",
      "source": [
        "###**The Categories with the most installations and the ones with the heaviest apps?**"
      ],
      "metadata": {
        "id": "sYZYnBJwa8rg"
      }
    },
    {
      "cell_type": "code",
      "source": [
        "ay =df.groupby('Category')['Installs'].value_counts()"
      ],
      "metadata": {
        "id": "g9GIDMTpbGZf"
      },
      "execution_count": null,
      "outputs": []
    },
    {
      "cell_type": "code",
      "source": [
        "Installs_df = df.groupby('Category')[['Installs']].sum().sort_values(by='Installs', ascending=False)\n",
        "  \n",
        "Installs_df"
      ],
      "metadata": {
        "id": "9jc3eO5GbItM"
      },
      "execution_count": null,
      "outputs": []
    },
    {
      "cell_type": "code",
      "source": [
        "# Chart - 6 visualization code\n",
        "# creating horizontal bar plot \n",
        "X_axis = []\n",
        "Y_axis = []\n",
        "\n",
        "## for loop\n",
        "for axis in range(len(Installs_df)):\n",
        "   X_axis.append(Installs_df.Installs[axis])\n",
        "   Y_axis.append(Installs_df.index[axis])\n",
        "\n",
        "plt.figure(figsize=(18,11))\n",
        "\n",
        "plt.xlabel(\"Installs\")\n",
        "plt.ylabel(\"Category\")\n",
        "barplot = sns.barplot(x = X_axis , y = Y_axis, alpha =0.9, palette= \"YlOrRd_r\")\n",
        "barplot.set_title(\"Installs\", fontsize = 25);"
      ],
      "metadata": {
        "id": "kuRf4wtuphqN"
      },
      "execution_count": null,
      "outputs": []
    },
    {
      "cell_type": "markdown",
      "source": [
        "##### 1. Why did you pick the specific chart?"
      ],
      "metadata": {
        "id": "bbFf2-_FphqN"
      }
    },
    {
      "cell_type": "markdown",
      "source": [
        "**This bar plot is used to display the categories with the highest number of installations. It can demonstrate the relationship between a categorical and a numerical variable, and it precisely displays the installations for all categories.**"
      ],
      "metadata": {
        "id": "loh7H2nzphqN"
      }
    },
    {
      "cell_type": "markdown",
      "source": [
        "##### 2. What is/are the insight(s) found from the chart?"
      ],
      "metadata": {
        "id": "_ouA3fa0phqN"
      }
    },
    {
      "cell_type": "markdown",
      "source": [
        "**As we have seen from the above plot that (Game) , (communiucation) and (tools) category has the most number of installs**"
      ],
      "metadata": {
        "id": "VECbqPI7phqN"
      }
    },
    {
      "cell_type": "markdown",
      "source": [
        "##### 3. Will the gained insights help creating a positive business impact? \n",
        "Are there any insights that lead to negative growth? Justify with specific reason."
      ],
      "metadata": {
        "id": "Seke61FWphqN"
      }
    },
    {
      "cell_type": "markdown",
      "source": [
        "Answer Here"
      ],
      "metadata": {
        "id": "DW4_bGpfphqN"
      }
    },
    {
      "cell_type": "markdown",
      "source": [
        "#### Chart - 7"
      ],
      "metadata": {
        "id": "PIIx-8_IphqN"
      }
    },
    {
      "cell_type": "markdown",
      "source": [
        "###**What are the Top 10 Installed Applications**"
      ],
      "metadata": {
        "id": "mV3hsrF9besg"
      }
    },
    {
      "cell_type": "code",
      "source": [
        "top10 = df[df['Category'] == 'GAME'].max()\n",
        "top10"
      ],
      "metadata": {
        "id": "8wBvh-1wbk9w"
      },
      "execution_count": null,
      "outputs": []
    },
    {
      "cell_type": "code",
      "source": [
        "top10 = df[df['Category'] == 'GAME']\n",
        "Top_most_intsalled = top10.sort_values(by='Installs', ascending=False).head(10)"
      ],
      "metadata": {
        "id": "Q11AAQnUboSF"
      },
      "execution_count": null,
      "outputs": []
    },
    {
      "cell_type": "code",
      "source": [
        "# Chart - 7 visualization code\n",
        "## set figsize\n",
        "plt.figure(figsize=(15,10))\n",
        "##creating the bar plot\n",
        "graph = sns.barplot(x = 'App', y = 'Installs', data =Top_most_intsalled ,palette = (\"YlGnBu_r\") , saturation = 10)\n",
        "##set title\n",
        "plt.title('Top 10 Installed Apps',size = 20)\n",
        "##set Background style\n",
        "sns.set_style('darkgrid') \n",
        "graph.set_xticklabels(graph.get_xticklabels(), rotation= 45, ha='right')"
      ],
      "metadata": {
        "id": "lqAIGUfyphqO"
      },
      "execution_count": null,
      "outputs": []
    },
    {
      "cell_type": "markdown",
      "source": [
        "##### 1. Why did you pick the specific chart?"
      ],
      "metadata": {
        "id": "t27r6nlMphqO"
      }
    },
    {
      "cell_type": "markdown",
      "source": [
        "**Picked this specific chart to show the top 10 installed apps , This Vertical bar charts are useful to compare different categorical variables , there we are showing this so its picked.**"
      ],
      "metadata": {
        "id": "iv6ro40sphqO"
      }
    },
    {
      "cell_type": "markdown",
      "source": [
        "##### 2. What is/are the insight(s) found from the chart?"
      ],
      "metadata": {
        "id": "r2jJGEOYphqO"
      }
    },
    {
      "cell_type": "markdown",
      "source": [
        "**As we have seen in the above bar chart , (Temple Run 2), (Candy Crush Saga), and (Subway Surfers) have the most number of installations in the game category**"
      ],
      "metadata": {
        "id": "Po6ZPi4hphqO"
      }
    },
    {
      "cell_type": "markdown",
      "source": [
        "##### 3. Will the gained insights help creating a positive business impact? \n",
        "Are there any insights that lead to negative growth? Justify with specific reason."
      ],
      "metadata": {
        "id": "b0JNsNcRphqO"
      }
    },
    {
      "cell_type": "markdown",
      "source": [
        "Answer Here"
      ],
      "metadata": {
        "id": "xvSq8iUTphqO"
      }
    },
    {
      "cell_type": "markdown",
      "source": [
        "#### Chart - 8"
      ],
      "metadata": {
        "id": "BZR9WyysphqO"
      }
    },
    {
      "cell_type": "markdown",
      "source": [
        "###**What are the most heavy category apps**"
      ],
      "metadata": {
        "id": "qNuIDf83b8q8"
      }
    },
    {
      "cell_type": "code",
      "source": [
        "high_size_app = df[df['Size']>50]"
      ],
      "metadata": {
        "id": "DV1ZtT8qcA2C"
      },
      "execution_count": null,
      "outputs": []
    },
    {
      "cell_type": "code",
      "source": [
        "heavy_app = high_size_app.groupby(\"Category\",)[\"Size\"].count().sort_values( ascending=False).reset_index()[:5]\n",
        "heavy_app"
      ],
      "metadata": {
        "id": "Q88nT5JocDIY"
      },
      "execution_count": null,
      "outputs": []
    },
    {
      "cell_type": "code",
      "source": [
        "# Chart - 8 visualization code\n",
        "plt.figure(figsize=(12,12))\n",
        "ax = sns.barplot(x = \"Category\" , y = 'Size', data =heavy_app , palette = (\"YlOrBr_r\"), orient = 'v',saturation =10)\n",
        "plt.title(' Heavy Apps Category')\n",
        "sns.set_style('dark')\n",
        "plt.xlabel('Categories')\n",
        "plt.ylabel('Size')\n",
        "ax.set_xticklabels(ax.get_xticklabels(), rotation=60, ha=\"right\")"
      ],
      "metadata": {
        "id": "R_fYQgf9cF_B"
      },
      "execution_count": null,
      "outputs": []
    },
    {
      "cell_type": "markdown",
      "source": [
        "##### 1. Why did you pick the specific chart?"
      ],
      "metadata": {
        "id": "jj7wYXLtphqO"
      }
    },
    {
      "cell_type": "markdown",
      "source": [
        "**There, we are attempting to demonstrate the content rating. Bar charts are frequently used when presenting information in segments, and this particular bar chart was chosen since it can display the categories of all the material.**"
      ],
      "metadata": {
        "id": "Ob8u6rCTphqO"
      }
    },
    {
      "cell_type": "markdown",
      "source": [
        "##### 2. What is/are the insight(s) found from the chart?"
      ],
      "metadata": {
        "id": "eZrbJ2SmphqO"
      }
    },
    {
      "cell_type": "markdown",
      "source": [
        "**As we are seeing in the graph The majority of large Applications (>50MB) fall within the game and family Category.**"
      ],
      "metadata": {
        "id": "mZtgC_hjphqO"
      }
    },
    {
      "cell_type": "markdown",
      "source": [
        "##### 3. Will the gained insights help creating a positive business impact? \n",
        "Are there any insights that lead to negative growth? Justify with specific reason."
      ],
      "metadata": {
        "id": "rFu4xreNphqO"
      }
    },
    {
      "cell_type": "markdown",
      "source": [
        "Answer Here"
      ],
      "metadata": {
        "id": "ey_0qi68phqO"
      }
    },
    {
      "cell_type": "markdown",
      "source": [
        "#### Chart - 9"
      ],
      "metadata": {
        "id": "YJ55k-q6phqO"
      }
    },
    {
      "cell_type": "markdown",
      "source": [
        "###**Pricing--Paid VS Free Analysis**"
      ],
      "metadata": {
        "id": "jYJHpu1_cYuV"
      }
    },
    {
      "cell_type": "markdown",
      "source": [
        "####**Now let us look at the distribution of free and paid apps in the Google Play store**"
      ],
      "metadata": {
        "id": "0R6kflQIcdYD"
      }
    },
    {
      "cell_type": "code",
      "source": [
        "Index =df['Type'].value_counts(sort = True).index\n",
        "Data = df['Type'].value_counts()"
      ],
      "metadata": {
        "id": "hbboyKrEcnBX"
      },
      "execution_count": null,
      "outputs": []
    },
    {
      "cell_type": "code",
      "source": [
        "# Chart - 9 visualization code\n",
        "## Creating pie chart \n",
        "plt.figure(figsize=(12,15))\n",
        "colors =  [\"#00EE76\",\"#7B8895\"]\n",
        "explode =  (0.3,0)\n",
        "plt.pie(Data, labels = Index , explode = explode, autopct ='%1.1f%%' , colors = colors , shadow = True ,startangle=0, radius=1.0)\n",
        "plt.legend(fontsize = 'xx-large')"
      ],
      "metadata": {
        "id": "B2aS4O1ophqO"
      },
      "execution_count": null,
      "outputs": []
    },
    {
      "cell_type": "markdown",
      "source": [
        "##### 1. Why did you pick the specific chart?"
      ],
      "metadata": {
        "id": "gCFgpxoyphqP"
      }
    },
    {
      "cell_type": "markdown",
      "source": [
        "**Pie chart able to demonstrate relationships between parts of the data in percentage wise . there we are showing the free Vs Paid apps in percentage wise  , this pie chart is suitable to display this data .**"
      ],
      "metadata": {
        "id": "TVxDimi2phqP"
      }
    },
    {
      "cell_type": "markdown",
      "source": [
        "##### 2. What is/are the insight(s) found from the chart?"
      ],
      "metadata": {
        "id": "OVtJsKN_phqQ"
      }
    },
    {
      "cell_type": "markdown",
      "source": [
        "**As we can observe from the above graph that 92.6% of the apps in the Google Play store are free, while 7.4%% are paid.**\n",
        "\n",
        "**Install rates of free and premium apps compare? Even while the gap is not as pronounced as I had anticipated, it shows out that paid apps are installed far less frequently than free ones.Answer Here**"
      ],
      "metadata": {
        "id": "ngGi97qjphqQ"
      }
    },
    {
      "cell_type": "markdown",
      "source": [
        "##### 3. Will the gained insights help creating a positive business impact? \n",
        "Are there any insights that lead to negative growth? Justify with specific reason."
      ],
      "metadata": {
        "id": "lssrdh5qphqQ"
      }
    },
    {
      "cell_type": "markdown",
      "source": [
        "Answer Here"
      ],
      "metadata": {
        "id": "tBpY5ekJphqQ"
      }
    },
    {
      "cell_type": "markdown",
      "source": [
        "#### Chart - 10"
      ],
      "metadata": {
        "id": "U2RJ9gkRphqQ"
      }
    },
    {
      "cell_type": "markdown",
      "source": [
        "###**Now let us look at how many Number of Apps are Paid**"
      ],
      "metadata": {
        "id": "HrvDd1tHc6QU"
      }
    },
    {
      "cell_type": "code",
      "source": [
        "# Chart - 10 visualization code\n",
        "plt.figure(figsize=(12,12))\n",
        "sns.kdeplot(df[df['Type']=='Paid'][\"Price\"], color = 'black', shade = True,)\n",
        "sns.set_style('darkgrid')\n",
        "plt.title('Number_of_Paid_Apps')\n",
        "plt.show()\n"
      ],
      "metadata": {
        "id": "GM7a4YP4phqQ"
      },
      "execution_count": null,
      "outputs": []
    },
    {
      "cell_type": "markdown",
      "source": [
        "##### 1. Why did you pick the specific chart?"
      ],
      "metadata": {
        "id": "1M8mcRywphqQ"
      }
    },
    {
      "cell_type": "markdown",
      "source": [
        "**There we are showing the price of number of paid applications , The area under the depicted curve serves as a representation of the probability distribution of the data values. To display this data clearly we have taken this kdeplot.**"
      ],
      "metadata": {
        "id": "8agQvks0phqQ"
      }
    },
    {
      "cell_type": "markdown",
      "source": [
        "##### 2. What is/are the insight(s) found from the chart?"
      ],
      "metadata": {
        "id": "tgIPom80phqQ"
      }
    },
    {
      "cell_type": "markdown",
      "source": [
        "**According to the graph above, there are 645 paid apps overall, with the majority of them costing between 0 and 100 rupees, and less of them are priced between 300 and 400 rupees.**"
      ],
      "metadata": {
        "id": "Qp13pnNzphqQ"
      }
    },
    {
      "cell_type": "markdown",
      "source": [
        "##### 3. Will the gained insights help creating a positive business impact? \n",
        "Are there any insights that lead to negative growth? Justify with specific reason."
      ],
      "metadata": {
        "id": "JMzcOPDDphqR"
      }
    },
    {
      "cell_type": "markdown",
      "source": [
        "Answer Here"
      ],
      "metadata": {
        "id": "R4Ka1PC2phqR"
      }
    },
    {
      "cell_type": "markdown",
      "source": [
        "#### Chart - 11"
      ],
      "metadata": {
        "id": "x-EpHcCOp1ci"
      }
    },
    {
      "cell_type": "markdown",
      "source": [
        "###**What are the Top 10 Expensive_Apps**"
      ],
      "metadata": {
        "id": "FKMijeRzdGmU"
      }
    },
    {
      "cell_type": "code",
      "source": [
        "df[df['Type']== \"Free\"].count()"
      ],
      "metadata": {
        "id": "7kcnPC4fdKWJ"
      },
      "execution_count": null,
      "outputs": []
    },
    {
      "cell_type": "code",
      "source": [
        "Top10_expensive_app  = df[df['Type']==\"Paid\"].sort_values(by = 'Price', ascending = False)[:10]"
      ],
      "metadata": {
        "id": "SpuIv9vDdOR-"
      },
      "execution_count": null,
      "outputs": []
    },
    {
      "cell_type": "code",
      "source": [
        "Top10_expensive_app[['Category' ,'App','Type' , 'Price']]"
      ],
      "metadata": {
        "id": "9n8trBZpdRIo"
      },
      "execution_count": null,
      "outputs": []
    },
    {
      "cell_type": "code",
      "source": [
        "# Chart - 11 visualization code\n",
        "plt.figure(figsize=(15,15));\n",
        "plt.pie(Top10_expensive_app.Installs, explode=None, labels=Top10_expensive_app.App, autopct='%1.1f%%', startangle=0)\n",
        "plt.title('Top Expensive Apps',size = 20)\n",
        "plt.legend(Top10_expensive_app.App, \n",
        "           loc=\"lower left\",\n",
        "           title=\"Apps\",\n",
        "           fontsize = \"large\")"
      ],
      "metadata": {
        "id": "mAQTIvtqp1cj"
      },
      "execution_count": null,
      "outputs": []
    },
    {
      "cell_type": "markdown",
      "source": [
        "##### 1. Why did you pick the specific chart?"
      ],
      "metadata": {
        "id": "X_VqEhTip1ck"
      }
    },
    {
      "cell_type": "markdown",
      "source": [
        "**There are Top 10 Expensive Applications, and in order to clearly explain this data, we have chosen a pie chart because A pie chart is a visual representation of data that shows data as a percentage of a whole while using slices of the circle, or \"pie,\" to represent the various categories that make up the whole.**  "
      ],
      "metadata": {
        "id": "-vsMzt_np1ck"
      }
    },
    {
      "cell_type": "markdown",
      "source": [
        "##### 2. What is/are the insight(s) found from the chart?"
      ],
      "metadata": {
        "id": "8zGJKyg5p1ck"
      }
    },
    {
      "cell_type": "markdown",
      "source": [
        "**We can see from the following graph that the Google Play Store's most expensive app is \"I am Rich,\" followed by \"I am Rich Premium.\"**"
      ],
      "metadata": {
        "id": "ZYdMsrqVp1ck"
      }
    },
    {
      "cell_type": "markdown",
      "source": [
        "##### 3. Will the gained insights help creating a positive business impact? \n",
        "Are there any insights that lead to negative growth? Justify with specific reason."
      ],
      "metadata": {
        "id": "PVzmfK_Ep1ck"
      }
    },
    {
      "cell_type": "markdown",
      "source": [
        "Answer Here"
      ],
      "metadata": {
        "id": "druuKYZpp1ck"
      }
    },
    {
      "cell_type": "markdown",
      "source": [
        "#### Chart - 12"
      ],
      "metadata": {
        "id": "n3dbpmDWp1ck"
      }
    },
    {
      "cell_type": "markdown",
      "source": [
        "###**To find out if there is a correlation between ratings and price would be fascinating. How do app store prices impact ratings**"
      ],
      "metadata": {
        "id": "JZq2arL2eZxf"
      }
    },
    {
      "cell_type": "code",
      "source": [
        "# Chart - 12 visualization code \n",
        "## Plotting Joint plot \n",
        "Rating_vs_apps = df[df['Type'] == 'Paid']\n",
        "\n",
        "# price vs. rating\n",
        "Relation = sns.jointplot(x = Rating_vs_apps['Price'], y = Rating_vs_apps['Rating'], kind='reg' , height=7)\n",
        "     "
      ],
      "metadata": {
        "id": "bwevp1tKp1ck"
      },
      "execution_count": null,
      "outputs": []
    },
    {
      "cell_type": "markdown",
      "source": [
        "##### 1. Why did you pick the specific chart?"
      ],
      "metadata": {
        "id": "ylSl6qgtp1ck"
      }
    },
    {
      "cell_type": "markdown",
      "source": [
        "**We are attempting displaying the relation between the Rating and price , joint  plot is very useful to quickly visualize and analyze the relationship between two variables.**"
      ],
      "metadata": {
        "id": "m2xqNkiQp1ck"
      }
    },
    {
      "cell_type": "markdown",
      "source": [
        "##### 2. What is/are the insight(s) found from the chart?"
      ],
      "metadata": {
        "id": "ZWILFDl5p1ck"
      }
    },
    {
      "cell_type": "markdown",
      "source": [
        "**As we have seen the correlation between price and rating in the above graph found that The majority of highly rated apps have best pricing between ~1 to 30 . there are very few Apps above 350.**\n"
      ],
      "metadata": {
        "id": "x-lUsV2mp1ck"
      }
    },
    {
      "cell_type": "markdown",
      "source": [
        "##### 3. Will the gained insights help creating a positive business impact? \n",
        "Are there any insights that lead to negative growth? Justify with specific reason."
      ],
      "metadata": {
        "id": "M7G43BXep1ck"
      }
    },
    {
      "cell_type": "markdown",
      "source": [
        "Answer Here"
      ],
      "metadata": {
        "id": "5wwDJXsLp1cl"
      }
    },
    {
      "cell_type": "markdown",
      "source": [
        "#### Chart - 13"
      ],
      "metadata": {
        "id": "Ag9LCva-p1cl"
      }
    },
    {
      "cell_type": "markdown",
      "source": [
        "###**How does the size of the app affect the ratings and number of installs?**"
      ],
      "metadata": {
        "id": "jP6nKVxEe3sp"
      }
    },
    {
      "cell_type": "code",
      "source": [
        "# Chart - 13 visualization code\n",
        "## Size vs Rating \n",
        "Size_vs_rating = sns.jointplot(x = df['Size'], y = df['Rating'], kind = 'hex', height=7)"
      ],
      "metadata": {
        "id": "EUfxeq9-p1cl"
      },
      "execution_count": null,
      "outputs": []
    },
    {
      "cell_type": "markdown",
      "source": [
        "##### 1. Why did you pick the specific chart?"
      ],
      "metadata": {
        "id": "E6MkPsBcp1cl"
      }
    },
    {
      "cell_type": "markdown",
      "source": [
        "**We have picked this joint plot to demonstrate the relation between size and rating , as we know that joint plot is used to visualize and analyze the relationship between two variables , that is why we have chosen this plot, this jointplot is clearly showing the relation between of both variables.**\n",
        "\n"
      ],
      "metadata": {
        "id": "V22bRsFWp1cl"
      }
    },
    {
      "cell_type": "markdown",
      "source": [
        "##### 2. What is/are the insight(s) found from the chart?"
      ],
      "metadata": {
        "id": "2cELzS2fp1cl"
      }
    },
    {
      "cell_type": "markdown",
      "source": [
        "**There is a relationship between size and rating, and trends can be seen between them. We discover that the bulk of highly rated apps (rated over 4) fall between 2 MB and 40 MB in size.**"
      ],
      "metadata": {
        "id": "ozQPc2_Ip1cl"
      }
    },
    {
      "cell_type": "markdown",
      "source": [
        "##### 3. Will the gained insights help creating a positive business impact? \n",
        "Are there any insights that lead to negative growth? Justify with specific reason."
      ],
      "metadata": {
        "id": "3MPXvC8up1cl"
      }
    },
    {
      "cell_type": "markdown",
      "source": [
        "Answer Here"
      ],
      "metadata": {
        "id": "GL8l1tdLp1cl"
      }
    },
    {
      "cell_type": "markdown",
      "source": [
        "#### Chart - 14 - Correlation Heatmap"
      ],
      "metadata": {
        "id": "NC_X3p0fY2L0"
      }
    },
    {
      "cell_type": "markdown",
      "source": [
        "###**To find any observable patterns or links between the features, create a pairwise plot of all the numerical interactions.**"
      ],
      "metadata": {
        "id": "K7Vwx-r-fvnB"
      }
    },
    {
      "cell_type": "code",
      "source": [
        "heat_corr = df.describe().corr()"
      ],
      "metadata": {
        "id": "A4n784H_feFO"
      },
      "execution_count": null,
      "outputs": []
    },
    {
      "cell_type": "code",
      "source": [
        "# Correlation Heatmap visualization code\n",
        "\n",
        "plt.figure(figsize=(17,10))\n",
        "corr= heat_corr.corr()\n",
        "sns.heatmap(heat_corr, annot=True,)\n",
        "plt.show()"
      ],
      "metadata": {
        "id": "xyC9zolEZNRQ"
      },
      "execution_count": null,
      "outputs": []
    },
    {
      "cell_type": "markdown",
      "source": [
        "##### 1. Why did you pick the specific chart?"
      ],
      "metadata": {
        "id": "UV0SzAkaZNRQ"
      }
    },
    {
      "cell_type": "markdown",
      "source": [
        "**The heatmap is  useful for analysing every numerical interaction since it can be used to identify potential links between variables and evaluate how strong those relationships are. That is why we have taken this chart to show this data.**"
      ],
      "metadata": {
        "id": "DVPuT8LYZNRQ"
      }
    },
    {
      "cell_type": "markdown",
      "source": [
        "##### 2. What is/are the insight(s) found from the chart?"
      ],
      "metadata": {
        "id": "YPEH6qLeZNRQ"
      }
    },
    {
      "cell_type": "markdown",
      "source": [
        "**There is a 0.15 moderately favourable relation between both the number of reviews and installations. That implies that users are more inclined to download an app if so many people have evaluated it.**"
      ],
      "metadata": {
        "id": "bfSqtnDqZNRR"
      }
    },
    {
      "cell_type": "markdown",
      "source": [
        "#### Chart - 15 - Pair Plot "
      ],
      "metadata": {
        "id": "q29F0dvdveiT"
      }
    },
    {
      "cell_type": "code",
      "source": [
        "# Pair Plot visualization code\n",
        "## Creating Paring plot to observe Correlation \n",
        "Pair = sns.pairplot(df, vars =['Price', 'Rating', 'Installs', 'Size', 'Reviews', ],kind= 'scatter', hue='Type',)\n",
        "Pair.fig.suptitle( \"Price', 'Rating', 'Size', 'Reviews', 'Installs\", y=1.02, fontsize=23)\n",
        "plt.show()"
      ],
      "metadata": {
        "id": "o58-TEIhveiU"
      },
      "execution_count": null,
      "outputs": []
    },
    {
      "cell_type": "markdown",
      "source": [
        "##### 1. Why did you pick the specific chart?"
      ],
      "metadata": {
        "id": "EXh0U9oCveiU"
      }
    },
    {
      "cell_type": "markdown",
      "source": [
        "**We have selected the pair plot to interpret these numerical values since it is one of the finest ways to comprehend how variables relate to one another.**"
      ],
      "metadata": {
        "id": "eMmPjTByveiU"
      }
    },
    {
      "cell_type": "markdown",
      "source": [
        "##### 2. What is/are the insight(s) found from the chart?"
      ],
      "metadata": {
        "id": "22aHeOlLveiV"
      }
    },
    {
      "cell_type": "markdown",
      "source": [
        "Answer Here"
      ],
      "metadata": {
        "id": "uPQ8RGwHveiV"
      }
    },
    {
      "cell_type": "markdown",
      "source": [
        "#### Chart - 16"
      ],
      "metadata": {
        "id": "J6dnit27ggpA"
      }
    },
    {
      "cell_type": "markdown",
      "source": [
        "###**What is the Type of review of sentiment distribution**"
      ],
      "metadata": {
        "id": "eZ6maYXkgmCW"
      }
    },
    {
      "cell_type": "code",
      "source": [
        "Sentiment_Analysis = merged_df.groupby(['Category','Sentiment']).size().reset_index(name = 'Sentiment Count')\n",
        "Sentiment_Analysis['log_sentiment_count'] = np.log2(Sentiment_Analysis['Sentiment Count'])"
      ],
      "metadata": {
        "id": "AzGqiGEkg2Je"
      },
      "execution_count": null,
      "outputs": []
    },
    {
      "cell_type": "code",
      "source": [
        "# Chart - 16 visualization code\n",
        "plt.figure(figsize=(18,9))\n",
        "sns.barplot('Category', 'log_sentiment_count', data=Sentiment_Analysis, hue='Sentiment', palette = 'CMRmap',  saturation = 10);\n",
        "plt.xticks(rotation=80)\n",
        "plt.title(\"The distribution of sentiment type by category\")"
      ],
      "metadata": {
        "id": "IfA461UOg4gK"
      },
      "execution_count": null,
      "outputs": []
    },
    {
      "cell_type": "markdown",
      "source": [
        "##### 1. Why did you pick the specific chart?"
      ],
      "metadata": {
        "id": "tkaNtcvBg_XT"
      }
    },
    {
      "cell_type": "markdown",
      "source": [
        "**This bar plot has been selected to represent the sentiment of all the categories; it may also be used to compare metric values across various subgroups of your data. It can demonstrate the distribution of data points.**"
      ],
      "metadata": {
        "id": "q3-EXLFRhAbS"
      }
    },
    {
      "cell_type": "markdown",
      "source": [
        "##### 2. What is/are the insight(s) found from the chart?"
      ],
      "metadata": {
        "id": "O696uhqehBZx"
      }
    },
    {
      "cell_type": "markdown",
      "source": [
        "**The(Health and Fitness) category do the best with more than 85% positive reviews, according to our depiction of the percentage of positive, negative, and neutral reviews for each category. However, (game) category have a larger proportion of both favourable and negative reviews.**"
      ],
      "metadata": {
        "id": "aHdnbq__hIir"
      }
    },
    {
      "cell_type": "markdown",
      "source": [
        "####Chart -17"
      ],
      "metadata": {
        "id": "eQfBEKxSh6NL"
      }
    },
    {
      "cell_type": "markdown",
      "source": [
        "###**Now Let's analyze the different review sentiment categories in percentage terms.**"
      ],
      "metadata": {
        "id": "A4oV_hQLhXkt"
      }
    },
    {
      "cell_type": "code",
      "source": [
        "# sentiment Analysis in percentage\n",
        "index = merged_df['Sentiment'].value_counts(sort = True).index\n",
        "Sentiment = merged_df['Sentiment'].value_counts()\n"
      ],
      "metadata": {
        "id": "ucU8xmaXhgJj"
      },
      "execution_count": null,
      "outputs": []
    },
    {
      "cell_type": "code",
      "source": [
        "# Chart - 17 visualization code\n",
        "plt.figure(figsize=(15,15))\n",
        "labels = index \n",
        "colors = ['lightgreen', 'red', 'Blue']\n",
        "plt.pie(Sentiment, labels=index, shadow=True, autopct=\"%.2f%%\", explode =  (0,0.03,0.03), colors=colors )\n",
        "plt.legend(fontsize = 'x-large')\n",
        "plt.title(' showing the percentage of Review Sentiments', fontsize=25)\n"
      ],
      "metadata": {
        "id": "UTtRl8TChjZ1"
      },
      "execution_count": null,
      "outputs": []
    },
    {
      "cell_type": "markdown",
      "source": [
        "##### 1. Why did you pick the specific chart?\n",
        "\n",
        "\n",
        "\n"
      ],
      "metadata": {
        "id": "PdhOPczCinOX"
      }
    },
    {
      "cell_type": "markdown",
      "source": [
        "**By using this pie chart, we were able to display data from several review sentiment categories in % terms. This pie chart is especially helpful for categories of data that need to be represented in percentage terms.**"
      ],
      "metadata": {
        "id": "Br_lq7-LjQlj"
      }
    },
    {
      "cell_type": "markdown",
      "source": [
        "##### 2. What is/are the insight(s) found from the chart?"
      ],
      "metadata": {
        "id": "HknHK1ZqjDQX"
      }
    },
    {
      "cell_type": "markdown",
      "source": [
        "**Positive reviews outnumber negative and neutral ones, as can be seen from the plot above, by a significant margin.**\n",
        "\n",
        "**Positive Reviews is 64.22%.**\n",
        "\n",
        "**negative Reviews is 22.28%.**\n",
        "\n",
        "**Netural Reviews is 13.50.**"
      ],
      "metadata": {
        "id": "F2DcZQuHjH9a"
      }
    },
    {
      "cell_type": "markdown",
      "source": [
        "#### Chart - 18"
      ],
      "metadata": {
        "id": "35r2i-fol_eT"
      }
    },
    {
      "cell_type": "markdown",
      "source": [
        "###**What are the top_10 Positive Reviews Apps**"
      ],
      "metadata": {
        "id": "hF4I-R2sjWdr"
      }
    },
    {
      "cell_type": "code",
      "source": [
        "# Top 10 positive reviews\n",
        "Top10_positive_review =reviews_df[reviews_df['Sentiment']=='Positive'].T\n",
        "Top10_positive_review "
      ],
      "metadata": {
        "id": "tkaBsuTuJ4KZ"
      },
      "execution_count": null,
      "outputs": []
    },
    {
      "cell_type": "code",
      "source": [
        "# Chart - 18 - Visualization code \n",
        "Top10_positive_review .groupby('App')['Sentiment'].value_counts().nlargest(10).plot.barh(figsize=(15,9),color='blue').invert_yaxis()\n",
        "plt.title(\"Top 10 positive review apps\")\n",
        "plt.xlabel('Total number of positive reviews')\n",
        "plt.legend()"
      ],
      "metadata": {
        "id": "jpErObmoKIcM"
      },
      "execution_count": null,
      "outputs": []
    },
    {
      "cell_type": "markdown",
      "source": [
        "1. Why did you pick the specific chart?"
      ],
      "metadata": {
        "id": "yoYYRfRjdjIF"
      }
    },
    {
      "cell_type": "markdown",
      "source": [
        "**There, we are striving to display the top 10 positive reviews Apps, we choose a horizontal bar chart since it makes the labels simpler to view.**"
      ],
      "metadata": {
        "id": "TF31Rpa1djCl"
      }
    },
    {
      "cell_type": "markdown",
      "source": [
        "2. What is/are the insight(s) found from the chart?\n",
        "\n",
        "\n",
        "\n"
      ],
      "metadata": {
        "id": "gS8iLsvddrbj"
      }
    },
    {
      "cell_type": "markdown",
      "source": [
        "**We can see from the graph above that the apps with the most positive user reviews are the Helix Jump, Duolingo: Learn Language Free, and Calorie Counter.**"
      ],
      "metadata": {
        "id": "oS1jj6ZadtNn"
      }
    },
    {
      "cell_type": "markdown",
      "source": [
        "###**What are the top_10 Negative Reviews Apps**"
      ],
      "metadata": {
        "id": "oczLIerpkFAZ"
      }
    },
    {
      "cell_type": "code",
      "source": [
        "Neg_review = reviews_df[reviews_df[ 'Sentiment']== \"Negative\"]"
      ],
      "metadata": {
        "id": "9-xcPDWRkLDD"
      },
      "execution_count": null,
      "outputs": []
    },
    {
      "cell_type": "code",
      "source": [
        "# Chart - 18 - Visualization code \n",
        "## Creating bar plot \n",
        "Neg_review.groupby('App')['Sentiment'].value_counts().sort_values(ascending = False)[:10].plot.barh(figsize=(15,9), color ='red').invert_yaxis()\n",
        "##Setting title \n",
        "plt.title('Top_10 Negative Review_Application',size = 22)\n",
        "##background Style\n",
        "sns.set_style('darkgrid') \n",
        "## legend\n",
        "plt.legend(fontsize = 'large')\n",
        "## set Xlabel\n",
        "plt.xlabel('The total amount of Negative reviews')"
      ],
      "metadata": {
        "id": "NSNgc626kPIY"
      },
      "execution_count": null,
      "outputs": []
    },
    {
      "cell_type": "markdown",
      "source": [
        "1. Why did you pick the specific chart?"
      ],
      "metadata": {
        "id": "5jVjrxNulAV9"
      }
    },
    {
      "cell_type": "markdown",
      "source": [
        "**There, we are striving to display the top 10 Negative reviews Apps, we choose a horizontal bar chart since it makes the labels simpler to view.**"
      ],
      "metadata": {
        "id": "g_iBWOEKlO17"
      }
    },
    {
      "cell_type": "markdown",
      "source": [
        "2. What is/are the insight(s) found from the chart?\n",
        "\n",
        "\n",
        "\n"
      ],
      "metadata": {
        "id": "UidAoUqYlFB4"
      }
    },
    {
      "cell_type": "markdown",
      "source": [
        "**As can be seen from the graph above, the apps with the most Negative reviews are (Angry Bird), (candy crush saga) ,(Bowmasters)**"
      ],
      "metadata": {
        "id": "q50ERa2glFwb"
      }
    },
    {
      "cell_type": "markdown",
      "source": [
        "#### Chart - 19"
      ],
      "metadata": {
        "id": "AXB0duyymCff"
      }
    },
    {
      "cell_type": "markdown",
      "source": [
        "###**Sentiment Polarity Analysis**"
      ],
      "metadata": {
        "id": "lJAdJ-YmlUp6"
      }
    },
    {
      "cell_type": "code",
      "source": [
        "#Chart - 19 - Visualization code \n",
        "## sentiment polarity and free/paid apps\n",
        "plt.figure(figsize=(12,10))\n",
        "ax = sns.boxplot(x='Type', y='Sentiment_Polarity', data=merged_df,width=0.9 , saturation=5)\n",
        "title = ax.set_title('Sentiment Polarity Distribution') \n",
        "sns.set_style(\"darkgrid\")"
      ],
      "metadata": {
        "id": "A0EUTvf5lbRk"
      },
      "execution_count": null,
      "outputs": []
    },
    {
      "cell_type": "markdown",
      "source": [
        "1. Why did you pick the specific chart?"
      ],
      "metadata": {
        "id": "B9WB2_UuljTM"
      }
    },
    {
      "cell_type": "markdown",
      "source": [
        "**This box plot is highly helpful and simple to comprehend since it can combine data from several sources and show the results in a single graph to explicitly highlight the sentiment polarity analysis in free vs. paid.**"
      ],
      "metadata": {
        "id": "4GhVxRrulvYp"
      }
    },
    {
      "cell_type": "markdown",
      "source": [
        "2. What is/are the insight(s) found from the chart?"
      ],
      "metadata": {
        "id": "QjXAj1IkloVL"
      }
    },
    {
      "cell_type": "markdown",
      "source": [
        "**User reviews for both paid and free apps are analysed by plotting the sentiment polarity scores.The outliers on the negative y-axis in the following graph show how unpleasant remarks are more common for free apps, but paying customers are more patient.**"
      ],
      "metadata": {
        "id": "9DOt5qR9lrjg"
      }
    },
    {
      "cell_type": "markdown",
      "source": [
        "## **5. Solution to Business Objective**"
      ],
      "metadata": {
        "id": "XGD5Ro0znlTm"
      }
    },
    {
      "cell_type": "markdown",
      "source": [
        "#### What do you suggest the client to achieve Business Objective ? \n",
        "Explain Briefly."
      ],
      "metadata": {
        "id": "8G2x9gOozGDZ"
      }
    },
    {
      "cell_type": "markdown",
      "source": [
        "**The dataset has the ability to significantly improve business values and deliver insights that will assist designers better comprehend customer wants, which will help the product be commercialised and have a good impact.\n",
        " This dataset allows for the exploration of numerous additional intriguing options.**\n",
        "\n",
        "**We may infer from the outcomes and the procedures we followed that we have succeeded in our project's goal of studying Google Play Store apps and identifying trends related to both of our research objectives.**"
      ],
      "metadata": {
        "id": "pASKb0qOza21"
      }
    },
    {
      "cell_type": "markdown",
      "source": [
        "# **Conclusion**"
      ],
      "metadata": {
        "id": "gCX9965dhzqZ"
      }
    },
    {
      "cell_type": "markdown",
      "source": [
        "-  As observed in the above plots, the categories for Family, Games, and Tools contain the greatest number of application-based categories in the Google Play Store.\n",
        "- Everyone category has the most number of apps as we have seen from graph . in the google playstore the bulk of apps (81.8%) are universally usable different age restrictions apply to remaining apps . - According to the above graph, the majority of the apps in the Google Play Store have ratings between 3.5 to 4.8, however the average rating for all apps is relatively high at 4.3.\n",
        "- We have found from the analysis that the two categories of applications with the greatest quality and 50% of apps with ratings greater than 4.5 are health and fitness and book and reference applications, while the dating category is lower than Average.\n",
        "- it is concluded that all the top four category has average rating between 4 to 4.8.\n",
        "- We found that The majority of installed apps fall under the categories of games, communication, and tools.\n",
        "- The bulk of installed apps, according to  research, fell into the game, communication, and tool categories, with Temple Run 2, Candy Crush Saga, and Subway Surfers receiving the most installations in the game category.\n",
        "- The game and family Category includes the majority of big Applications (>50MB). Despite this, the excellent ratings for these hefty apps suggest that they are hefty for a reason.\n",
        "- In the Google Play store, 92.6%  of the apps are for free, and 7.4% are for a fee. It signifies that the majority of apps in specific categories on the Play Store were available for free download. There are several apps that are paid simultaneously.\n",
        "- According to the graph above, there are 645 paid apps overall, with the majority of them costing between 0 to 100 rupees, and less of them are priced between 300 to 400 rupees.\n",
        "- I am Rich is the most costly app in the Google Play Store, followed by I am Rich Premium, as per the visualisation.\n",
        "-  found that The majority of highly rated apps have best pricing between ~1 to 30 . there are very few Apps above 350 rupees.\n",
        "- we concluded from visualisation The paid apps have tiny size applications between 2 MB to 40 MB, and they are highly rated. (There is a relationship between size and rating, and trends can be seen between them. We discover that the bulk of highly rated apps (rated over 4) fall between 2 MB to 40 MB in size).\n",
        "- There is a 0.15 moderately favourable relation between both the number of reviews and installations. That implies that users are more inclined to download an app if so many people have evaluated it.\n",
        "- we found that health and fitness category has achieved highest number positive reviews followed by game category , game is the category which contain larger amount of reviews but they have huge portion of both positive and negative sentiments \n",
        "- Positive reviews outnumber negative and neutral ones, as can be seen from the plot above, by a significant margin.\n",
        "- Calorie Counter, Duolingo: Learn Language Free, and Helix Jump have received the most favourable user reviews. the most unfavourable reviews received by games Candy Crush Saga and Angry Birds (Bowmasters)\n",
        "- The outliers on the negative y-axis in the following graph show how unpleasant remarks are more common for free apps, but paying customers are more patient."
      ],
      "metadata": {
        "id": "Fjb1IsQkh3yE"
      }
    },
    {
      "cell_type": "markdown",
      "source": [
        "### ***Hurrah! You have successfully completed your EDA Capstone Project !!!***"
      ],
      "metadata": {
        "id": "gIfDvo9L0UH2"
      }
    },
    {
      "cell_type": "markdown",
      "source": [
        "Thank you"
      ],
      "metadata": {
        "id": "0fj6T2kXka_t"
      }
    },
    {
      "cell_type": "code",
      "source": [],
      "metadata": {
        "id": "BHFfQnhWkcDW"
      },
      "execution_count": null,
      "outputs": []
    }
  ]
}